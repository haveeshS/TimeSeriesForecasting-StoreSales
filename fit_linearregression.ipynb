{
 "cells": [
  {
   "cell_type": "code",
   "execution_count": 1,
   "id": "9cd83c5b",
   "metadata": {},
   "outputs": [],
   "source": [
    "import numpy as np\n",
    "import pandas as pd\n",
    "import matplotlib.pyplot as plt"
   ]
  },
  {
   "cell_type": "code",
   "execution_count": 2,
   "id": "c714bd02",
   "metadata": {},
   "outputs": [],
   "source": [
    "train_set = pd.read_csv(\"train.csv\", parse_dates=[\"date\"])\n",
    "\n",
    "train_set[\"date\"] = pd.to_datetime(train_set[\"date\"]) # converting the date column to pandas datetype"
   ]
  },
  {
   "cell_type": "code",
   "execution_count": 3,
   "id": "04a35caa",
   "metadata": {},
   "outputs": [],
   "source": [
    "train_set_encoded = pd.get_dummies(train_set, columns=[\"family\",\"store_nbr\"])\n",
    "\n",
    "train_set_encoded = train_set_encoded.drop(columns=[\"family_AUTOMOTIVE\",\"store_nbr_1\"])"
   ]
  },
  {
   "cell_type": "code",
   "execution_count": 4,
   "id": "b14f2486",
   "metadata": {},
   "outputs": [],
   "source": [
    "y = train_set_encoded[\"sales\"]\n",
    "\n",
    "train_set_encoded = train_set_encoded.drop(columns=\"sales\")"
   ]
  },
  {
   "cell_type": "code",
   "execution_count": 5,
   "id": "a39f283a",
   "metadata": {},
   "outputs": [],
   "source": [
    "from statsmodels.tsa.deterministic import CalendarFourier, DeterministicProcess\n",
    "\n",
    "unique_dates = pd.date_range(start=train_set[\"date\"].min(), end=train_set[\"date\"].max(), freq=\"D\")\n",
    "\n",
    "\n",
    "# Using DeterministicProcess to generate time dummies (linear and quadratic with order=2) \n",
    "# and two Fourier elements for seasonal effects at yearly and weekly frequencies  \n",
    "\n",
    "fourier1 = CalendarFourier(freq=\"YE\", order=1)  \n",
    "fourier2 = CalendarFourier(freq=\"W\", order=1)  \n",
    "\n",
    "train_set_copy = train_set.copy()\n",
    "train_set_copy.set_index(\"date\")\n",
    "\n",
    "dp = DeterministicProcess(\n",
    "    index=unique_dates,  # dates from the training data\n",
    "    constant=True,       # dummy feature for the bias (y_intercept)\n",
    "    order=1,             # the time dummy (trend)\n",
    "    additional_terms=[fourier1,fourier2],  \n",
    "    drop=True,           # drop terms if necessary to avoid collinearity\n",
    ")\n",
    "\n",
    "X_trend_season = dp.in_sample()"
   ]
  },
  {
   "cell_type": "code",
   "execution_count": 6,
   "id": "619acaa3",
   "metadata": {},
   "outputs": [],
   "source": [
    "X = train_set_encoded.merge(X_trend_season, left_on=\"date\", right_index=True, how=\"left\")"
   ]
  },
  {
   "cell_type": "code",
   "execution_count": null,
   "id": "5fa1849f",
   "metadata": {},
   "outputs": [],
   "source": [
    "# X = X.set_index(\"date\")\n",
    "\n",
    "# X = X.drop(columns=\"id\")"
   ]
  },
  {
   "cell_type": "code",
   "execution_count": 10,
   "id": "77ae91e0",
   "metadata": {},
   "outputs": [],
   "source": [
    "from sklearn.linear_model import LinearRegression\n",
    "\n",
    "model = LinearRegression().fit(X, y)"
   ]
  },
  {
   "cell_type": "code",
   "execution_count": 11,
   "id": "875a7d09",
   "metadata": {},
   "outputs": [],
   "source": [
    "y_pred = model.predict(X)"
   ]
  },
  {
   "cell_type": "code",
   "execution_count": 12,
   "id": "af887fb2",
   "metadata": {},
   "outputs": [
    {
     "data": {
      "text/plain": [
       "<matplotlib.legend.Legend at 0x1c092d3e1d0>"
      ]
     },
     "execution_count": 12,
     "metadata": {},
     "output_type": "execute_result"
    },
    {
     "data": {
      "image/png": "[encoded data removed]",
      "text/plain": [
       "<Figure size 640x480 with 1 Axes>"
      ]
     },
     "metadata": {},
     "output_type": "display_data"
    }
   ],
   "source": [
    "plt.plot(X.index,y_pred,label='prediction')\n",
    "plt.plot(X.index,y,label='actual')\n",
    "plt.legend()\n"
   ]
  },
  {
   "cell_type": "code",
   "execution_count": 13,
   "id": "70791c14",
   "metadata": {},
   "outputs": [],
   "source": [
    "test_set = pd.read_csv(\"test.csv\",parse_dates=[\"date\"])\n",
    "\n",
    "test_set_encoded = pd.get_dummies(test_set, columns=[\"family\",\"store_nbr\"])\n",
    "\n",
    "test_set_encoded = test_set_encoded.drop(columns=[\"family_AUTOMOTIVE\",\"store_nbr_1\"])"
   ]
  },
  {
   "cell_type": "code",
   "execution_count": 14,
   "id": "6ac3a5c4",
   "metadata": {},
   "outputs": [
    {
     "data": {
      "text/html": [
       "<div>\n",
       "<style scoped>\n",
       "    .dataframe tbody tr th:only-of-type {\n",
       "        vertical-align: middle;\n",
       "    }\n",
       "\n",
       "    .dataframe tbody tr th {\n",
       "        vertical-align: top;\n",
       "    }\n",
       "\n",
       "    .dataframe thead th {\n",
       "        text-align: right;\n",
       "    }\n",
       "</style>\n",
       "<table border=\"1\" class=\"dataframe\">\n",
       "  <thead>\n",
       "    <tr style=\"text-align: right;\">\n",
       "      <th></th>\n",
       "      <th>id</th>\n",
       "      <th>date</th>\n",
       "      <th>store_nbr</th>\n",
       "      <th>family</th>\n",
       "      <th>onpromotion</th>\n",
       "    </tr>\n",
       "  </thead>\n",
       "  <tbody>\n",
       "    <tr>\n",
       "      <th>0</th>\n",
       "      <td>3000888</td>\n",
       "      <td>2017-08-16</td>\n",
       "      <td>1</td>\n",
       "      <td>AUTOMOTIVE</td>\n",
       "      <td>0</td>\n",
       "    </tr>\n",
       "    <tr>\n",
       "      <th>1</th>\n",
       "      <td>3000889</td>\n",
       "      <td>2017-08-16</td>\n",
       "      <td>1</td>\n",
       "      <td>BABY CARE</td>\n",
       "      <td>0</td>\n",
       "    </tr>\n",
       "    <tr>\n",
       "      <th>2</th>\n",
       "      <td>3000890</td>\n",
       "      <td>2017-08-16</td>\n",
       "      <td>1</td>\n",
       "      <td>BEAUTY</td>\n",
       "      <td>2</td>\n",
       "    </tr>\n",
       "    <tr>\n",
       "      <th>3</th>\n",
       "      <td>3000891</td>\n",
       "      <td>2017-08-16</td>\n",
       "      <td>1</td>\n",
       "      <td>BEVERAGES</td>\n",
       "      <td>20</td>\n",
       "    </tr>\n",
       "    <tr>\n",
       "      <th>4</th>\n",
       "      <td>3000892</td>\n",
       "      <td>2017-08-16</td>\n",
       "      <td>1</td>\n",
       "      <td>BOOKS</td>\n",
       "      <td>0</td>\n",
       "    </tr>\n",
       "    <tr>\n",
       "      <th>...</th>\n",
       "      <td>...</td>\n",
       "      <td>...</td>\n",
       "      <td>...</td>\n",
       "      <td>...</td>\n",
       "      <td>...</td>\n",
       "    </tr>\n",
       "    <tr>\n",
       "      <th>28507</th>\n",
       "      <td>3029395</td>\n",
       "      <td>2017-08-31</td>\n",
       "      <td>9</td>\n",
       "      <td>POULTRY</td>\n",
       "      <td>1</td>\n",
       "    </tr>\n",
       "    <tr>\n",
       "      <th>28508</th>\n",
       "      <td>3029396</td>\n",
       "      <td>2017-08-31</td>\n",
       "      <td>9</td>\n",
       "      <td>PREPARED FOODS</td>\n",
       "      <td>0</td>\n",
       "    </tr>\n",
       "    <tr>\n",
       "      <th>28509</th>\n",
       "      <td>3029397</td>\n",
       "      <td>2017-08-31</td>\n",
       "      <td>9</td>\n",
       "      <td>PRODUCE</td>\n",
       "      <td>1</td>\n",
       "    </tr>\n",
       "    <tr>\n",
       "      <th>28510</th>\n",
       "      <td>3029398</td>\n",
       "      <td>2017-08-31</td>\n",
       "      <td>9</td>\n",
       "      <td>SCHOOL AND OFFICE SUPPLIES</td>\n",
       "      <td>9</td>\n",
       "    </tr>\n",
       "    <tr>\n",
       "      <th>28511</th>\n",
       "      <td>3029399</td>\n",
       "      <td>2017-08-31</td>\n",
       "      <td>9</td>\n",
       "      <td>SEAFOOD</td>\n",
       "      <td>0</td>\n",
       "    </tr>\n",
       "  </tbody>\n",
       "</table>\n",
       "<p>28512 rows × 5 columns</p>\n",
       "</div>"
      ],
      "text/plain": [
       "            id       date  store_nbr                      family  onpromotion\n",
       "0      3000888 2017-08-16          1                  AUTOMOTIVE            0\n",
       "1      3000889 2017-08-16          1                   BABY CARE            0\n",
       "2      3000890 2017-08-16          1                      BEAUTY            2\n",
       "3      3000891 2017-08-16          1                   BEVERAGES           20\n",
       "4      3000892 2017-08-16          1                       BOOKS            0\n",
       "...        ...        ...        ...                         ...          ...\n",
       "28507  3029395 2017-08-31          9                     POULTRY            1\n",
       "28508  3029396 2017-08-31          9              PREPARED FOODS            0\n",
       "28509  3029397 2017-08-31          9                     PRODUCE            1\n",
       "28510  3029398 2017-08-31          9  SCHOOL AND OFFICE SUPPLIES            9\n",
       "28511  3029399 2017-08-31          9                     SEAFOOD            0\n",
       "\n",
       "[28512 rows x 5 columns]"
      ]
     },
     "execution_count": 14,
     "metadata": {},
     "output_type": "execute_result"
    }
   ],
   "source": [
    "test_set"
   ]
  },
  {
   "cell_type": "code",
   "execution_count": 15,
   "id": "3e43566e",
   "metadata": {},
   "outputs": [],
   "source": [
    "unique_dates_testset = pd.date_range(start=test_set[\"date\"].min(), end=test_set[\"date\"].max(), freq=\"D\")\n",
    "\n",
    "\n",
    "# Using DeterministicProcess to generate time dummies (linear and quadratic with order=2) \n",
    "# and two Fourier elements for seasonal effects at yearly and weekly frequencies  \n",
    "\n",
    "fourier1 = CalendarFourier(freq=\"YE\", order=1)  \n",
    "fourier2 = CalendarFourier(freq=\"W\", order=1)  \n",
    "\n",
    "# test_set_copy = test_set.copy()\n",
    "# test_set_copy.set_index(\"date\")\n",
    "\n",
    "dp = DeterministicProcess(\n",
    "    index=unique_dates_testset,  # dates from the training data\n",
    "    constant=True,       # dummy feature for the bias (y_intercept)\n",
    "    order=1,             # the time dummy (trend)\n",
    "    additional_terms=[fourier1,fourier2],  \n",
    "    drop=True,           # drop terms if necessary to avoid collinearity\n",
    ")\n",
    "\n",
    "X_trend_season_test = dp.in_sample()"
   ]
  },
  {
   "cell_type": "code",
   "execution_count": 16,
   "id": "cb0d68d9",
   "metadata": {},
   "outputs": [],
   "source": [
    "X_test = test_set_encoded.merge(X_trend_season_test, left_on=\"date\", right_index=True, how=\"left\")"
   ]
  },
  {
   "cell_type": "code",
   "execution_count": null,
   "id": "e0c1731c",
   "metadata": {},
   "outputs": [],
   "source": [
    "# index_series_test = test_set[\"id\"]\n",
    "\n",
    "# X_test = X_test.set_index(\"date\")\n",
    "\n",
    "# X_test = X_test.drop(columns=\"id\")\n",
    "\n",
    "# test_set"
   ]
  },
  {
   "cell_type": "code",
   "execution_count": 21,
   "id": "423ff901",
   "metadata": {},
   "outputs": [
    {
     "data": {
      "text/plain": [
       "0        3000888\n",
       "1        3000889\n",
       "2        3000890\n",
       "3        3000891\n",
       "4        3000892\n",
       "          ...   \n",
       "28507    3029395\n",
       "28508    3029396\n",
       "28509    3029397\n",
       "28510    3029398\n",
       "28511    3029399\n",
       "Name: id, Length: 28512, dtype: int64"
      ]
     },
     "execution_count": 21,
     "metadata": {},
     "output_type": "execute_result"
    }
   ],
   "source": [
    "index_series_test"
   ]
  },
  {
   "cell_type": "code",
   "execution_count": 22,
   "id": "ff7cf219",
   "metadata": {},
   "outputs": [],
   "source": [
    "y_test = model.predict(X_test)"
   ]
  },
  {
   "cell_type": "code",
   "execution_count": 23,
   "id": "4d498fdf",
   "metadata": {},
   "outputs": [
    {
     "data": {
      "text/plain": [
       "[<matplotlib.lines.Line2D at 0x1c092cef010>]"
      ]
     },
     "execution_count": 23,
     "metadata": {},
     "output_type": "execute_result"
    },
    {
     "data": {
      "image/png": "[encoded data removed]",
      "text/plain": [
       "<Figure size 640x480 with 1 Axes>"
      ]
     },
     "metadata": {},
     "output_type": "display_data"
    }
   ],
   "source": [
    "plt.plot(X_test.index, y_test)"
   ]
  },
  {
   "cell_type": "code",
   "execution_count": 44,
   "id": "3a7711cf",
   "metadata": {},
   "outputs": [],
   "source": [
    "X[\"id\"] = y.index"
   ]
  },
  {
   "cell_type": "code",
   "execution_count": 51,
   "id": "1dd6d371",
   "metadata": {},
   "outputs": [
    {
     "data": {
      "text/plain": [
       "0             0.000\n",
       "1             0.000\n",
       "2             0.000\n",
       "3             0.000\n",
       "4             0.000\n",
       "             ...   \n",
       "3000883     438.133\n",
       "3000884     154.553\n",
       "3000885    2419.729\n",
       "3000886     121.000\n",
       "3000887      16.000\n",
       "Name: sales, Length: 3000888, dtype: float64"
      ]
     },
     "execution_count": 51,
     "metadata": {},
     "output_type": "execute_result"
    }
   ],
   "source": [
    "y"
   ]
  },
  {
   "cell_type": "code",
   "execution_count": 49,
   "id": "65cfe305",
   "metadata": {},
   "outputs": [],
   "source": [
    "X = X.reset_index().set_index(\"id\")"
   ]
  },
  {
   "cell_type": "code",
   "execution_count": 52,
   "id": "6b194deb",
   "metadata": {},
   "outputs": [
    {
     "data": {
      "text/plain": [
       "id\n",
       "1         2013-01-01\n",
       "34        2013-01-01\n",
       "67        2013-01-01\n",
       "100       2013-01-01\n",
       "133       2013-01-01\n",
       "             ...    \n",
       "3000724   2017-08-15\n",
       "3000757   2017-08-15\n",
       "3000790   2017-08-15\n",
       "3000823   2017-08-15\n",
       "3000856   2017-08-15\n",
       "Name: date, Length: 90936, dtype: datetime64[ns]"
      ]
     },
     "execution_count": 52,
     "metadata": {},
     "output_type": "execute_result"
    }
   ],
   "source": [
    "X[\"date\"][X[\"family_BABY CARE\"]==1]"
   ]
  },
  {
   "cell_type": "code",
   "execution_count": 24,
   "id": "6958d318",
   "metadata": {},
   "outputs": [],
   "source": [
    "predictions = pd.DataFrame({\n",
    "    \"id\": index_series_test,\n",
    "    \"sales\": y_test\n",
    "})"
   ]
  },
  {
   "cell_type": "code",
   "execution_count": 25,
   "id": "6a4ea69c",
   "metadata": {},
   "outputs": [],
   "source": [
    "predictions.to_csv(\"predictions_trial1.csv\",index=False)"
   ]
  }
 ],
 "metadata": {
  "kernelspec": {
   "display_name": "Python 3",
   "language": "python",
   "name": "python3"
  },
  "language_info": {
   "codemirror_mode": {
    "name": "ipython",
    "version": 3
   },
   "file_extension": ".py",
   "mimetype": "text/x-python",
   "name": "python",
   "nbconvert_exporter": "python",
   "pygments_lexer": "ipython3",
   "version": "3.11.9"
  }
 },
 "nbformat": 4,
 "nbformat_minor": 5
}
